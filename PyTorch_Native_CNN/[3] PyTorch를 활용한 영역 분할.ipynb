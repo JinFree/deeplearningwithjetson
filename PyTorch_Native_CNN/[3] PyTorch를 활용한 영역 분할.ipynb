{
  "nbformat": 4,
  "nbformat_minor": 0,
  "metadata": {
    "colab": {
      "provenance": []
    },
    "kernelspec": {
      "name": "python3",
      "display_name": "Python 3"
    },
    "language_info": {
      "name": "python"
    }
  },
  "cells": [
    {
      "cell_type": "markdown",
      "source": [
        "# PyTorch를 활용한 영역 분할"
      ],
      "metadata": {
        "id": "2czhGGl1ZuVu"
      }
    },
    {
      "cell_type": "markdown",
      "source": [
        "목표\n",
        "\n",
        "- COCO 사전학습 Mask R-CNN 모델로 PyTorch 추론\n",
        "\n",
        "- 추론 결과 시각화 (Bounding Box + Mask)\n",
        "\n",
        "- ONNX로 변환\n",
        "\n",
        "- ONNX Runtime으로 추론\n",
        "\n",
        "- PyTorch vs ONNX 추론 결과 시각화 및 시간 비교"
      ],
      "metadata": {
        "id": "k-enWS8O5T-Y"
      }
    },
    {
      "cell_type": "markdown",
      "source": [
        "## 1. 필수 라이브러리 설치 및 불러오기"
      ],
      "metadata": {
        "id": "VKZ4vEYd5diH"
      }
    },
    {
      "cell_type": "code",
      "execution_count": null,
      "metadata": {
        "id": "5RRkWL2tX0g6"
      },
      "outputs": [],
      "source": [
        "!pip install onnx onnxruntime --quiet"
      ]
    },
    {
      "cell_type": "code",
      "source": [
        "import torch\n",
        "import torchvision\n",
        "from torchvision.models.detection import maskrcnn_resnet50_fpn\n",
        "from torchvision.transforms import functional as F\n",
        "\n",
        "import numpy as np\n",
        "import matplotlib.pyplot as plt\n",
        "from matplotlib.patches import Rectangle\n",
        "import cv2\n",
        "import time\n",
        "import onnx\n",
        "import onnxruntime as ort\n",
        "\n",
        "from PIL import Image\n",
        "import requests\n",
        "from io import BytesIO\n",
        "\n",
        "device = torch.device(\"cuda\" if torch.cuda.is_available() else \"cpu\")\n",
        "print(\"Using device:\", device)"
      ],
      "metadata": {
        "id": "r7nITAvD5hoh"
      },
      "execution_count": null,
      "outputs": []
    },
    {
      "cell_type": "markdown",
      "source": [
        "## 2. 사전학습 Mask R-CNN 모델 불러오기 및 테스트 이미지 준비"
      ],
      "metadata": {
        "id": "ZeXJoxzb5jEZ"
      }
    },
    {
      "cell_type": "code",
      "source": [
        "!wget https://raw.githubusercontent.com/JinFree/OpenCV_for_DeepLearning/3e8b5613ff76389b78d22c35b4e30678a887aca7/Data/image_01.png"
      ],
      "metadata": {
        "id": "JEhRwKjJE2OB"
      },
      "execution_count": null,
      "outputs": []
    },
    {
      "cell_type": "code",
      "source": [
        "# 사전학습된 COCO 기반 Mask R-CNN\n",
        "model = maskrcnn_resnet50_fpn(weights=\"DEFAULT\")\n",
        "model.eval().to(device)\n",
        "\n",
        "# 테스트 이미지 불러오기\n",
        "img = cv2.imread('/content/image_01.png')\n",
        "img_resize = cv2.resize(img, (224, 224))\n",
        "img_rgb = cv2.cvtColor(img_resize, cv2.COLOR_BGR2RGB)\n",
        "img_normalized = img_rgb.astype(np.float32) / 255.0\n",
        "img_chw = np.transpose(img_normalized, (2, 0, 1))\n",
        "img_tensor = np.expand_dims(img_chw, axis=0)\n",
        "img_tensor = torch.from_numpy(img_tensor).to(device)\n",
        "\n",
        "# 모델 입력은 리스트로 전달\n",
        "with torch.no_grad():\n",
        "    output = model(img_tensor)[0]"
      ],
      "metadata": {
        "id": "OfDHzoTM5jeh"
      },
      "execution_count": null,
      "outputs": []
    },
    {
      "cell_type": "markdown",
      "source": [
        "## 3. PyTorch 추론 결과 시각화 (Bounding Box + Mask)"
      ],
      "metadata": {
        "id": "N_KAQ4e-5o4X"
      }
    },
    {
      "cell_type": "code",
      "source": [
        "# COCO 클래스 목록\n",
        "COCO_INSTANCE_CATEGORY_NAMES = [\n",
        "    '__background__', 'person', 'bicycle', 'car', 'motorcycle', 'airplane', 'bus',\n",
        "    'train', 'truck', 'boat', 'traffic light', 'fire hydrant', 'stop sign',\n",
        "    'parking meter', 'bench', 'bird', 'cat', 'dog', 'horse', 'sheep', 'cow',\n",
        "    'elephant', 'bear', 'zebra', 'giraffe', 'backpack', 'umbrella', 'handbag',\n",
        "    'tie', 'suitcase', 'frisbee', 'skis', 'snowboard', 'sports ball', 'kite',\n",
        "    'baseball bat', 'baseball glove', 'skateboard', 'surfboard', 'tennis racket',\n",
        "    'bottle', 'wine glass', 'cup', 'fork', 'knife', 'spoon', 'bowl', 'banana',\n",
        "    'apple', 'sandwich', 'orange', 'broccoli', 'carrot', 'hot dog', 'pizza',\n",
        "    'donut', 'cake', 'chair', 'couch', 'potted plant', 'bed', 'dining table',\n",
        "    'toilet', 'tv', 'laptop', 'mouse', 'remote', 'keyboard', 'cell phone',\n",
        "    'microwave', 'oven', 'toaster', 'sink', 'refrigerator', 'book', 'clock',\n",
        "    'vase', 'scissors', 'teddy bear', 'hair drier', 'toothbrush'\n",
        "]\n",
        "\n",
        "# 시각화 함수\n",
        "def show_maskrcnn_result(img, output, score_threshold=0.8):\n",
        "    img_np = np.array(img).copy()\n",
        "    masks = output['masks'].cpu().numpy()\n",
        "    boxes = output['boxes'].cpu().numpy()\n",
        "    labels = output['labels'].cpu().numpy()\n",
        "    scores = output['scores'].cpu().numpy()\n",
        "\n",
        "    for i in range(len(masks)):\n",
        "        if scores[i] < score_threshold:\n",
        "            continue\n",
        "        mask = masks[i, 0] > 0.5\n",
        "        color = np.random.randint(0, 255, (3,), dtype=np.uint8)\n",
        "        img_np[mask] = img_np[mask] * 0.5 + color * 0.5\n",
        "\n",
        "        x1, y1, x2, y2 = boxes[i]\n",
        "        cv2.rectangle(img_np, (int(x1), int(y1)), (int(x2), int(y2)), color.tolist(), 2)\n",
        "        cv2.putText(img_np, f\"{COCO_INSTANCE_CATEGORY_NAMES[labels[i]]}: {scores[i]:.2f}\",\n",
        "                    (int(x1), int(y1) - 5), cv2.FONT_HERSHEY_SIMPLEX, 0.5, color.tolist(), 2)\n",
        "\n",
        "    plt.figure(figsize=(10, 8))\n",
        "    plt.imshow(img_np)\n",
        "    plt.axis(\"off\")\n",
        "    plt.show()\n",
        "\n",
        "# 결과 보기\n",
        "img = cv2.imread('/content/image_01.png')\n",
        "img_resize = cv2.resize(img, (224, 224))\n",
        "img_rgb = cv2.cvtColor(img_resize, cv2.COLOR_BGR2RGB)\n",
        "show_maskrcnn_result(img_rgb, output)\n"
      ],
      "metadata": {
        "id": "ruEPovd-5pjn"
      },
      "execution_count": null,
      "outputs": []
    },
    {
      "cell_type": "markdown",
      "source": [
        "## 4. ONNX로 변환 (마스크 추론 포함)"
      ],
      "metadata": {
        "id": "_fg6xBY55tPa"
      }
    },
    {
      "cell_type": "code",
      "source": [
        "# 모델을 CPU로 이동 후 dummy input 생성\n",
        "model.cpu()\n",
        "dummy_input = torch.randn(1, 3, 224, 224)\n",
        "\n",
        "onnx_path = \"maskrcnn.onnx\"\n",
        "\n",
        "torch.onnx.export(model,\n",
        "                  dummy_input,\n",
        "                  onnx_path,\n",
        "                  input_names=['input'],\n",
        "                  output_names=['boxes', 'labels', 'scores', 'masks'],\n",
        "                  opset_version=11,\n",
        "                  do_constant_folding=True)\n",
        "\n",
        "print(\"ONNX 모델로 저장 완료:\", onnx_path)\n"
      ],
      "metadata": {
        "id": "syYiS_8L5sdu"
      },
      "execution_count": null,
      "outputs": []
    },
    {
      "cell_type": "markdown",
      "source": [
        "## 5. ONNX Runtime으로 추론하기"
      ],
      "metadata": {
        "id": "r_SC0GyU8H6t"
      }
    },
    {
      "cell_type": "markdown",
      "source": [
        "Note: PyTorch의 Mask R-CNN은 ONNX 변환 시 복잡한 마스크 추론 경로를 포함하므로, 일부 버전에서는 마스크 추론이 제대로 되지 않을 수 있습니다. 아래는 박스/레이블/스코어 중심의 추론 예입니다."
      ],
      "metadata": {
        "id": "gXqkXnyq8KOQ"
      }
    },
    {
      "cell_type": "code",
      "source": [
        "session = ort.InferenceSession(onnx_path, providers=[\"CPUExecutionProvider\"])\n",
        "\n",
        "\n",
        "img = cv2.imread('/content/image_01.png')\n",
        "img_resize = cv2.resize(img, (224, 224))\n",
        "img_rgb = cv2.cvtColor(img_resize, cv2.COLOR_BGR2RGB)\n",
        "img_normalized = img_rgb.astype(np.float32) / 255.0\n",
        "img_chw = np.transpose(img_normalized, (2, 0, 1))\n",
        "img_tensor = np.expand_dims(img_chw, axis=0)\n",
        "\n",
        "# ONNX 추론\n",
        "outputs = session.run(None, {\"input\": img_tensor})\n",
        "onnx_boxes, onnx_labels, onnx_scores, onnx_masks = outputs\n",
        "\n",
        "print(\"ONNX 결과 박스 수:\", len(onnx_boxes))"
      ],
      "metadata": {
        "id": "XEwvYXTB8I0l"
      },
      "execution_count": null,
      "outputs": []
    },
    {
      "cell_type": "markdown",
      "source": [
        "ONNX Runtime 추론 결과에서 마스크 시각화하기\n",
        "\n",
        "- ONNX로 변환된 Mask R-CNN 모델의 추론 결과는 일반적으로 다음과 같은 네 가지 출력을 포함합니다:\n",
        "  - boxes: 탐지된 객체의 경계 상자 (N, 4)\n",
        "  - labels: 각 객체의 클래스 레이블 (N,)\n",
        "  - scores: 각 탐지의 신뢰도 점수 (N,)\n",
        "  - masks: 각 객체의 마스크 (N, 1, H, W)"
      ],
      "metadata": {
        "id": "PlBb4zrXFkML"
      }
    },
    {
      "cell_type": "code",
      "source": [
        "import numpy as np\n",
        "import matplotlib.pyplot as plt\n",
        "import cv2\n",
        "\n",
        "def visualize_masks(image, boxes, masks, labels, scores, class_names, score_threshold=0.5):\n",
        "    \"\"\"\n",
        "    이미지에 마스크와 경계 상자를 시각화합니다.\n",
        "\n",
        "    Parameters:\n",
        "    - image: 원본 이미지 (numpy array, H x W x 3)\n",
        "    - boxes: 경계 상자 (N x 4)\n",
        "    - masks: 마스크 (N x 1 x H x W)\n",
        "    - labels: 클래스 레이블 (N,)\n",
        "    - scores: 신뢰도 점수 (N,)\n",
        "    - class_names: 클래스 이름 리스트\n",
        "    - score_threshold: 시각화할 최소 신뢰도 점수\n",
        "    \"\"\"\n",
        "    image = image.copy()\n",
        "    for i in range(len(scores)):\n",
        "        if scores[i] < score_threshold:\n",
        "            continue\n",
        "\n",
        "        mask = masks[i, 0]\n",
        "        mask = (mask > 0.5).astype(np.uint8)\n",
        "\n",
        "        # 무작위 색상 생성\n",
        "        color = np.random.randint(0, 256, (3,), dtype=np.uint8)\n",
        "\n",
        "        # 마스크 적용\n",
        "        colored_mask = np.zeros_like(image, dtype=np.uint8)\n",
        "        for c in range(3):\n",
        "            colored_mask[:, :, c] = color[c] * mask\n",
        "        image = cv2.addWeighted(image, 1.0, colored_mask, 0.5, 0)\n",
        "\n",
        "        # 경계 상자 그리기\n",
        "        x1, y1, x2, y2 = boxes[i].astype(int)\n",
        "        cv2.rectangle(image, (x1, y1), (x2, y2), color.tolist(), 2)\n",
        "\n",
        "        # 클래스 이름 및 점수 표시\n",
        "        label_text = f\"{class_names[labels[i]]}: {scores[i]:.2f}\"\n",
        "        cv2.putText(image, label_text, (x1, y1 - 10),\n",
        "                    cv2.FONT_HERSHEY_SIMPLEX, 0.5, color.tolist(), 2)\n",
        "\n",
        "    plt.figure(figsize=(12, 8))\n",
        "    plt.imshow(image)\n",
        "    plt.axis('off')\n",
        "    plt.show()\n"
      ],
      "metadata": {
        "id": "TPE2yocrFtqE"
      },
      "execution_count": null,
      "outputs": []
    },
    {
      "cell_type": "code",
      "source": [
        "# ONNX Runtime을 사용하여 추론\n",
        "outputs = session.run(None, {\"input\": img_tensor})\n",
        "onnx_boxes, onnx_labels, onnx_scores, onnx_masks = outputs\n",
        "\n",
        "# 클래스 이름 리스트 (예: COCO 데이터셋)\n",
        "class_names = [\n",
        "    '__background__', 'person', 'bicycle', 'car', 'motorcycle', 'airplane', 'bus',\n",
        "    'train', 'truck', 'boat', 'traffic light', 'fire hydrant', 'stop sign',\n",
        "    'parking meter', 'bench', 'bird', 'cat', 'dog', 'horse', 'sheep', 'cow',\n",
        "    'elephant', 'bear', 'zebra', 'giraffe', 'backpack', 'umbrella', 'handbag',\n",
        "    'tie', 'suitcase', 'frisbee', 'skis', 'snowboard', 'sports ball', 'kite',\n",
        "    'baseball bat', 'baseball glove', 'skateboard', 'surfboard', 'tennis racket',\n",
        "    'bottle', 'wine glass', 'cup', 'fork', 'knife', 'spoon', 'bowl', 'banana',\n",
        "    'apple', 'sandwich', 'orange', 'broccoli', 'carrot', 'hot dog', 'pizza',\n",
        "    'donut', 'cake', 'chair', 'couch', 'potted plant', 'bed', 'dining table',\n",
        "    'toilet', 'tv', 'laptop', 'mouse', 'remote', 'keyboard', 'cell phone',\n",
        "    'microwave', 'oven', 'toaster', 'sink', 'refrigerator', 'book', 'clock',\n",
        "    'vase', 'scissors', 'teddy bear', 'hair drier', 'toothbrush'\n",
        "]\n",
        "\n",
        "# 이미지 시각화\n",
        "visualize_masks(img_resize, onnx_boxes, onnx_masks, onnx_labels.astype(int), onnx_scores, class_names, score_threshold=0.5)\n"
      ],
      "metadata": {
        "id": "85jU6vzNFwEi"
      },
      "execution_count": null,
      "outputs": []
    },
    {
      "cell_type": "markdown",
      "source": [
        "## 6. 추론 속도 비교 (PyTorch vs ONNXRuntime)"
      ],
      "metadata": {
        "id": "acYBdrxX8RTr"
      }
    },
    {
      "cell_type": "code",
      "source": [
        "# tensor\n",
        "img = cv2.imread('/content/image_01.png')\n",
        "img_resize = cv2.resize(img, (224, 224))\n",
        "img_rgb = cv2.cvtColor(img_resize, cv2.COLOR_BGR2RGB)\n",
        "img_normalized = img_rgb.astype(np.float32) / 255.0\n",
        "img_chw = np.transpose(img_normalized, (2, 0, 1))\n",
        "img_tensor = np.expand_dims(img_chw, axis=0)\n",
        "img_tensor_torch = torch.from_numpy(img_tensor).to(device)\n",
        "\n",
        "# PyTorch 추론 시간\n",
        "model.eval().to(\"cpu\")\n",
        "start = time.time()\n",
        "with torch.no_grad():\n",
        "    _ = model(img_tensor_torch.cpu())\n",
        "end = time.time()\n",
        "print(f\"PyTorch 추론 시간: {end - start:.4f}초\")\n",
        "\n",
        "# ONNX Runtime 추론 시간\n",
        "start = time.time()\n",
        "_ = session.run(None, {\"input\": img_tensor})\n",
        "end = time.time()\n",
        "print(f\"ONNX Runtime 추론 시간: {end - start:.4f}초\")\n"
      ],
      "metadata": {
        "id": "nIdziM778Pvt"
      },
      "execution_count": null,
      "outputs": []
    },
    {
      "cell_type": "markdown",
      "source": [
        "## 실습"
      ],
      "metadata": {
        "id": "c3KCJ1h8Ges-"
      }
    },
    {
      "cell_type": "code",
      "source": [],
      "metadata": {
        "id": "fVGXDKsnGJ5T"
      },
      "execution_count": null,
      "outputs": []
    }
  ]
}